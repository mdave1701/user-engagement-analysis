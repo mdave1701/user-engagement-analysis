{
 "cells": [
  {
   "cell_type": "code",
   "execution_count": 1,
   "metadata": {},
   "outputs": [],
   "source": [
    "%matplotlib inline\n",
    "import pandas as pd\n",
    "import numpy as np\n",
    "import matplotlib.pyplot as plt\n",
    "import matplotlib.style as style\n",
    "from scipy.stats import kurtosis, skew, normaltest, norm, probplot\n",
    "from pprint import pprint\n",
    "import seaborn as sns\n",
    "\n",
    "import warnings\n",
    "warnings.filterwarnings('ignore')\n",
    "\n",
    "from IPython.core.interactiveshell import InteractiveShell\n",
    "InteractiveShell.ast_node_interactivity = \"all\""
   ]
  },
  {
   "cell_type": "markdown",
   "metadata": {},
   "source": [
    "## Initial Data Exploration"
   ]
  },
  {
   "cell_type": "code",
   "execution_count": 2,
   "metadata": {},
   "outputs": [
    {
     "data": {
      "text/html": [
       "<div>\n",
       "<style scoped>\n",
       "    .dataframe tbody tr th:only-of-type {\n",
       "        vertical-align: middle;\n",
       "    }\n",
       "\n",
       "    .dataframe tbody tr th {\n",
       "        vertical-align: top;\n",
       "    }\n",
       "\n",
       "    .dataframe thead th {\n",
       "        text-align: right;\n",
       "    }\n",
       "</style>\n",
       "<table border=\"1\" class=\"dataframe\">\n",
       "  <thead>\n",
       "    <tr style=\"text-align: right;\">\n",
       "      <th></th>\n",
       "      <th>session_id</th>\n",
       "      <th>customer_id</th>\n",
       "      <th>login_date</th>\n",
       "      <th>projects_added</th>\n",
       "      <th>likes_given</th>\n",
       "      <th>comment_given</th>\n",
       "      <th>inactive_status</th>\n",
       "      <th>bug_occured</th>\n",
       "      <th>session_projects_added</th>\n",
       "      <th>session_likes_given</th>\n",
       "      <th>session_comments_given</th>\n",
       "      <th>inactive_duration</th>\n",
       "      <th>bugs_in_session</th>\n",
       "      <th>session_duration</th>\n",
       "    </tr>\n",
       "  </thead>\n",
       "  <tbody>\n",
       "    <tr>\n",
       "      <th>0</th>\n",
       "      <td>624205.0</td>\n",
       "      <td>80746.0</td>\n",
       "      <td>10/30/19</td>\n",
       "      <td>False</td>\n",
       "      <td>True</td>\n",
       "      <td>True</td>\n",
       "      <td>True</td>\n",
       "      <td>False</td>\n",
       "      <td>0.0</td>\n",
       "      <td>24.0</td>\n",
       "      <td>3.0</td>\n",
       "      <td>1146.0</td>\n",
       "      <td>0.0</td>\n",
       "      <td>1564.0</td>\n",
       "    </tr>\n",
       "    <tr>\n",
       "      <th>1</th>\n",
       "      <td>624241.0</td>\n",
       "      <td>24520.0</td>\n",
       "      <td>10/30/19</td>\n",
       "      <td>True</td>\n",
       "      <td>True</td>\n",
       "      <td>True</td>\n",
       "      <td>True</td>\n",
       "      <td>False</td>\n",
       "      <td>2.0</td>\n",
       "      <td>3.0</td>\n",
       "      <td>5.0</td>\n",
       "      <td>133.0</td>\n",
       "      <td>0.0</td>\n",
       "      <td>1766.0</td>\n",
       "    </tr>\n",
       "    <tr>\n",
       "      <th>2</th>\n",
       "      <td>111002.0</td>\n",
       "      <td>32047.0</td>\n",
       "      <td>10/30/19</td>\n",
       "      <td>True</td>\n",
       "      <td>True</td>\n",
       "      <td>True</td>\n",
       "      <td>True</td>\n",
       "      <td>False</td>\n",
       "      <td>1.0</td>\n",
       "      <td>5.0</td>\n",
       "      <td>5.0</td>\n",
       "      <td>1571.0</td>\n",
       "      <td>0.0</td>\n",
       "      <td>2230.0</td>\n",
       "    </tr>\n",
       "    <tr>\n",
       "      <th>3</th>\n",
       "      <td>545113.0</td>\n",
       "      <td>23404.0</td>\n",
       "      <td>10/30/19</td>\n",
       "      <td>True</td>\n",
       "      <td>True</td>\n",
       "      <td>True</td>\n",
       "      <td>False</td>\n",
       "      <td>False</td>\n",
       "      <td>1.0</td>\n",
       "      <td>10.0</td>\n",
       "      <td>21.0</td>\n",
       "      <td>0.0</td>\n",
       "      <td>0.0</td>\n",
       "      <td>633.0</td>\n",
       "    </tr>\n",
       "    <tr>\n",
       "      <th>4</th>\n",
       "      <td>750269.0</td>\n",
       "      <td>40235.0</td>\n",
       "      <td>10/30/19</td>\n",
       "      <td>True</td>\n",
       "      <td>True</td>\n",
       "      <td>False</td>\n",
       "      <td>True</td>\n",
       "      <td>False</td>\n",
       "      <td>3.0</td>\n",
       "      <td>16.0</td>\n",
       "      <td>0.0</td>\n",
       "      <td>1405.0</td>\n",
       "      <td>0.0</td>\n",
       "      <td>1679.0</td>\n",
       "    </tr>\n",
       "  </tbody>\n",
       "</table>\n",
       "</div>"
      ],
      "text/plain": [
       "   session_id  customer_id login_date projects_added likes_given  \\\n",
       "0    624205.0      80746.0   10/30/19          False        True   \n",
       "1    624241.0      24520.0   10/30/19           True        True   \n",
       "2    111002.0      32047.0   10/30/19           True        True   \n",
       "3    545113.0      23404.0   10/30/19           True        True   \n",
       "4    750269.0      40235.0   10/30/19           True        True   \n",
       "\n",
       "  comment_given inactive_status bug_occured  session_projects_added  \\\n",
       "0          True            True       False                     0.0   \n",
       "1          True            True       False                     2.0   \n",
       "2          True            True       False                     1.0   \n",
       "3          True           False       False                     1.0   \n",
       "4         False            True       False                     3.0   \n",
       "\n",
       "   session_likes_given  session_comments_given  inactive_duration  \\\n",
       "0                 24.0                     3.0             1146.0   \n",
       "1                  3.0                     5.0              133.0   \n",
       "2                  5.0                     5.0             1571.0   \n",
       "3                 10.0                    21.0                0.0   \n",
       "4                 16.0                     0.0             1405.0   \n",
       "\n",
       "   bugs_in_session  session_duration  \n",
       "0              0.0            1564.0  \n",
       "1              0.0            1766.0  \n",
       "2              0.0            2230.0  \n",
       "3              0.0             633.0  \n",
       "4              0.0            1679.0  "
      ]
     },
     "execution_count": 2,
     "metadata": {},
     "output_type": "execute_result"
    },
    {
     "data": {
      "text/plain": [
       "session_id                float64\n",
       "customer_id               float64\n",
       "login_date                 object\n",
       "projects_added             object\n",
       "likes_given                object\n",
       "comment_given              object\n",
       "inactive_status            object\n",
       "bug_occured                object\n",
       "session_projects_added    float64\n",
       "session_likes_given       float64\n",
       "session_comments_given    float64\n",
       "inactive_duration         float64\n",
       "bugs_in_session           float64\n",
       "session_duration          float64\n",
       "dtype: object"
      ]
     },
     "execution_count": 2,
     "metadata": {},
     "output_type": "execute_result"
    }
   ],
   "source": [
    "raw_data = pd.read_csv('showwcase_sessions.csv')\n",
    "raw_data.head()\n",
    "raw_data.dtypes"
   ]
  },
  {
   "cell_type": "code",
   "execution_count": 3,
   "metadata": {},
   "outputs": [
    {
     "data": {
      "text/plain": [
       "0     2019-10-30\n",
       "1     2019-10-30\n",
       "2     2019-10-30\n",
       "3     2019-10-30\n",
       "4     2019-10-30\n",
       "         ...    \n",
       "297   2019-10-01\n",
       "298   2019-10-01\n",
       "299   2019-10-01\n",
       "300          NaT\n",
       "301          NaT\n",
       "Name: login_date, Length: 302, dtype: datetime64[ns]"
      ]
     },
     "execution_count": 3,
     "metadata": {},
     "output_type": "execute_result"
    }
   ],
   "source": [
    "# convert the login_date field into actual datetime objects for ease of analysis\n",
    "raw_data['login_date'] = pd.to_datetime(raw_data['login_date'], infer_datetime_format=True)\n",
    "raw_data['login_date']"
   ]
  },
  {
   "cell_type": "code",
   "execution_count": 4,
   "metadata": {},
   "outputs": [
    {
     "data": {
      "text/plain": [
       "session_id                2\n",
       "customer_id               2\n",
       "login_date                2\n",
       "projects_added            2\n",
       "likes_given               2\n",
       "comment_given             2\n",
       "inactive_status           2\n",
       "bug_occured               2\n",
       "session_projects_added    2\n",
       "session_likes_given       3\n",
       "session_comments_given    2\n",
       "inactive_duration         2\n",
       "bugs_in_session           2\n",
       "session_duration          2\n",
       "dtype: int64"
      ]
     },
     "execution_count": 4,
     "metadata": {},
     "output_type": "execute_result"
    }
   ],
   "source": [
    "# Is there any missing data?\n",
    "raw_data.isna().sum()"
   ]
  },
  {
   "cell_type": "code",
   "execution_count": 5,
   "metadata": {},
   "outputs": [
    {
     "data": {
      "text/html": [
       "<div>\n",
       "<style scoped>\n",
       "    .dataframe tbody tr th:only-of-type {\n",
       "        vertical-align: middle;\n",
       "    }\n",
       "\n",
       "    .dataframe tbody tr th {\n",
       "        vertical-align: top;\n",
       "    }\n",
       "\n",
       "    .dataframe thead th {\n",
       "        text-align: right;\n",
       "    }\n",
       "</style>\n",
       "<table border=\"1\" class=\"dataframe\">\n",
       "  <thead>\n",
       "    <tr style=\"text-align: right;\">\n",
       "      <th></th>\n",
       "      <th>session_id</th>\n",
       "      <th>customer_id</th>\n",
       "      <th>login_date</th>\n",
       "      <th>projects_added</th>\n",
       "      <th>likes_given</th>\n",
       "      <th>comment_given</th>\n",
       "      <th>inactive_status</th>\n",
       "      <th>bug_occured</th>\n",
       "      <th>session_projects_added</th>\n",
       "      <th>session_likes_given</th>\n",
       "      <th>session_comments_given</th>\n",
       "      <th>inactive_duration</th>\n",
       "      <th>bugs_in_session</th>\n",
       "      <th>session_duration</th>\n",
       "    </tr>\n",
       "  </thead>\n",
       "  <tbody>\n",
       "    <tr>\n",
       "      <th>35</th>\n",
       "      <td>862128.0</td>\n",
       "      <td>23404.0</td>\n",
       "      <td>2019-10-26</td>\n",
       "      <td>True</td>\n",
       "      <td>False</td>\n",
       "      <td>True</td>\n",
       "      <td>True</td>\n",
       "      <td>False</td>\n",
       "      <td>2.0</td>\n",
       "      <td>NaN</td>\n",
       "      <td>2.0</td>\n",
       "      <td>1120.0</td>\n",
       "      <td>0.0</td>\n",
       "      <td>95.0</td>\n",
       "    </tr>\n",
       "    <tr>\n",
       "      <th>300</th>\n",
       "      <td>NaN</td>\n",
       "      <td>NaN</td>\n",
       "      <td>NaT</td>\n",
       "      <td>NaN</td>\n",
       "      <td>NaN</td>\n",
       "      <td>NaN</td>\n",
       "      <td>NaN</td>\n",
       "      <td>NaN</td>\n",
       "      <td>NaN</td>\n",
       "      <td>NaN</td>\n",
       "      <td>NaN</td>\n",
       "      <td>NaN</td>\n",
       "      <td>NaN</td>\n",
       "      <td>NaN</td>\n",
       "    </tr>\n",
       "    <tr>\n",
       "      <th>301</th>\n",
       "      <td>NaN</td>\n",
       "      <td>NaN</td>\n",
       "      <td>NaT</td>\n",
       "      <td>NaN</td>\n",
       "      <td>NaN</td>\n",
       "      <td>NaN</td>\n",
       "      <td>NaN</td>\n",
       "      <td>NaN</td>\n",
       "      <td>NaN</td>\n",
       "      <td>NaN</td>\n",
       "      <td>NaN</td>\n",
       "      <td>NaN</td>\n",
       "      <td>NaN</td>\n",
       "      <td>NaN</td>\n",
       "    </tr>\n",
       "  </tbody>\n",
       "</table>\n",
       "</div>"
      ],
      "text/plain": [
       "     session_id  customer_id login_date projects_added likes_given  \\\n",
       "35     862128.0      23404.0 2019-10-26           True       False   \n",
       "300         NaN          NaN        NaT            NaN         NaN   \n",
       "301         NaN          NaN        NaT            NaN         NaN   \n",
       "\n",
       "    comment_given inactive_status bug_occured  session_projects_added  \\\n",
       "35           True            True       False                     2.0   \n",
       "300           NaN             NaN         NaN                     NaN   \n",
       "301           NaN             NaN         NaN                     NaN   \n",
       "\n",
       "     session_likes_given  session_comments_given  inactive_duration  \\\n",
       "35                   NaN                     2.0             1120.0   \n",
       "300                  NaN                     NaN                NaN   \n",
       "301                  NaN                     NaN                NaN   \n",
       "\n",
       "     bugs_in_session  session_duration  \n",
       "35               0.0              95.0  \n",
       "300              NaN               NaN  \n",
       "301              NaN               NaN  "
      ]
     },
     "execution_count": 5,
     "metadata": {},
     "output_type": "execute_result"
    }
   ],
   "source": [
    "# show the rows that are NaN\n",
    "raw_data[raw_data.isnull().any(axis=1)]"
   ]
  },
  {
   "cell_type": "markdown",
   "metadata": {},
   "source": [
    "There is only 1 rows that is not all NaN."
   ]
  },
  {
   "cell_type": "code",
   "execution_count": 6,
   "metadata": {},
   "outputs": [
    {
     "data": {
      "text/plain": [
       "session_id                0\n",
       "customer_id               0\n",
       "login_date                0\n",
       "projects_added            0\n",
       "likes_given               0\n",
       "comment_given             0\n",
       "inactive_status           0\n",
       "bug_occured               0\n",
       "session_projects_added    0\n",
       "session_likes_given       0\n",
       "session_comments_given    0\n",
       "inactive_duration         0\n",
       "bugs_in_session           0\n",
       "session_duration          0\n",
       "dtype: int64"
      ]
     },
     "execution_count": 6,
     "metadata": {},
     "output_type": "execute_result"
    }
   ],
   "source": [
    "# Since there is only 1 row that is not all NaN, it is fine to drop it\n",
    "clean_data = raw_data.dropna(how='any')\n",
    "clean_data.isna().sum()"
   ]
  },
  {
   "cell_type": "markdown",
   "metadata": {},
   "source": [
    "## Understanding the Underlying Structure of the Data"
   ]
  },
  {
   "cell_type": "code",
   "execution_count": 7,
   "metadata": {},
   "outputs": [
    {
     "data": {
      "text/html": [
       "<div>\n",
       "<style scoped>\n",
       "    .dataframe tbody tr th:only-of-type {\n",
       "        vertical-align: middle;\n",
       "    }\n",
       "\n",
       "    .dataframe tbody tr th {\n",
       "        vertical-align: top;\n",
       "    }\n",
       "\n",
       "    .dataframe thead th {\n",
       "        text-align: right;\n",
       "    }\n",
       "</style>\n",
       "<table border=\"1\" class=\"dataframe\">\n",
       "  <thead>\n",
       "    <tr style=\"text-align: right;\">\n",
       "      <th></th>\n",
       "      <th>session_id</th>\n",
       "      <th>customer_id</th>\n",
       "      <th>session_projects_added</th>\n",
       "      <th>session_likes_given</th>\n",
       "      <th>session_comments_given</th>\n",
       "      <th>inactive_duration</th>\n",
       "      <th>bugs_in_session</th>\n",
       "      <th>session_duration</th>\n",
       "    </tr>\n",
       "  </thead>\n",
       "  <tbody>\n",
       "    <tr>\n",
       "      <th>session_id</th>\n",
       "      <td>1.000000</td>\n",
       "      <td>-0.041766</td>\n",
       "      <td>0.107919</td>\n",
       "      <td>-0.111805</td>\n",
       "      <td>0.087228</td>\n",
       "      <td>0.051335</td>\n",
       "      <td>-0.160055</td>\n",
       "      <td>-0.007147</td>\n",
       "    </tr>\n",
       "    <tr>\n",
       "      <th>customer_id</th>\n",
       "      <td>-0.041766</td>\n",
       "      <td>1.000000</td>\n",
       "      <td>0.157838</td>\n",
       "      <td>-0.030708</td>\n",
       "      <td>-0.035146</td>\n",
       "      <td>-0.014802</td>\n",
       "      <td>0.049826</td>\n",
       "      <td>-0.056896</td>\n",
       "    </tr>\n",
       "    <tr>\n",
       "      <th>session_projects_added</th>\n",
       "      <td>0.107919</td>\n",
       "      <td>0.157838</td>\n",
       "      <td>1.000000</td>\n",
       "      <td>-0.014775</td>\n",
       "      <td>-0.065215</td>\n",
       "      <td>0.001022</td>\n",
       "      <td>-0.038429</td>\n",
       "      <td>0.018398</td>\n",
       "    </tr>\n",
       "    <tr>\n",
       "      <th>session_likes_given</th>\n",
       "      <td>-0.111805</td>\n",
       "      <td>-0.030708</td>\n",
       "      <td>-0.014775</td>\n",
       "      <td>1.000000</td>\n",
       "      <td>0.048944</td>\n",
       "      <td>-0.076404</td>\n",
       "      <td>0.032711</td>\n",
       "      <td>-0.057032</td>\n",
       "    </tr>\n",
       "    <tr>\n",
       "      <th>session_comments_given</th>\n",
       "      <td>0.087228</td>\n",
       "      <td>-0.035146</td>\n",
       "      <td>-0.065215</td>\n",
       "      <td>0.048944</td>\n",
       "      <td>1.000000</td>\n",
       "      <td>0.011550</td>\n",
       "      <td>-0.020312</td>\n",
       "      <td>0.010574</td>\n",
       "    </tr>\n",
       "    <tr>\n",
       "      <th>inactive_duration</th>\n",
       "      <td>0.051335</td>\n",
       "      <td>-0.014802</td>\n",
       "      <td>0.001022</td>\n",
       "      <td>-0.076404</td>\n",
       "      <td>0.011550</td>\n",
       "      <td>1.000000</td>\n",
       "      <td>0.137024</td>\n",
       "      <td>0.073598</td>\n",
       "    </tr>\n",
       "    <tr>\n",
       "      <th>bugs_in_session</th>\n",
       "      <td>-0.160055</td>\n",
       "      <td>0.049826</td>\n",
       "      <td>-0.038429</td>\n",
       "      <td>0.032711</td>\n",
       "      <td>-0.020312</td>\n",
       "      <td>0.137024</td>\n",
       "      <td>1.000000</td>\n",
       "      <td>-0.032970</td>\n",
       "    </tr>\n",
       "    <tr>\n",
       "      <th>session_duration</th>\n",
       "      <td>-0.007147</td>\n",
       "      <td>-0.056896</td>\n",
       "      <td>0.018398</td>\n",
       "      <td>-0.057032</td>\n",
       "      <td>0.010574</td>\n",
       "      <td>0.073598</td>\n",
       "      <td>-0.032970</td>\n",
       "      <td>1.000000</td>\n",
       "    </tr>\n",
       "  </tbody>\n",
       "</table>\n",
       "</div>"
      ],
      "text/plain": [
       "                        session_id  customer_id  session_projects_added  \\\n",
       "session_id                1.000000    -0.041766                0.107919   \n",
       "customer_id              -0.041766     1.000000                0.157838   \n",
       "session_projects_added    0.107919     0.157838                1.000000   \n",
       "session_likes_given      -0.111805    -0.030708               -0.014775   \n",
       "session_comments_given    0.087228    -0.035146               -0.065215   \n",
       "inactive_duration         0.051335    -0.014802                0.001022   \n",
       "bugs_in_session          -0.160055     0.049826               -0.038429   \n",
       "session_duration         -0.007147    -0.056896                0.018398   \n",
       "\n",
       "                        session_likes_given  session_comments_given  \\\n",
       "session_id                        -0.111805                0.087228   \n",
       "customer_id                       -0.030708               -0.035146   \n",
       "session_projects_added            -0.014775               -0.065215   \n",
       "session_likes_given                1.000000                0.048944   \n",
       "session_comments_given             0.048944                1.000000   \n",
       "inactive_duration                 -0.076404                0.011550   \n",
       "bugs_in_session                    0.032711               -0.020312   \n",
       "session_duration                  -0.057032                0.010574   \n",
       "\n",
       "                        inactive_duration  bugs_in_session  session_duration  \n",
       "session_id                       0.051335        -0.160055         -0.007147  \n",
       "customer_id                     -0.014802         0.049826         -0.056896  \n",
       "session_projects_added           0.001022        -0.038429          0.018398  \n",
       "session_likes_given             -0.076404         0.032711         -0.057032  \n",
       "session_comments_given           0.011550        -0.020312          0.010574  \n",
       "inactive_duration                1.000000         0.137024          0.073598  \n",
       "bugs_in_session                  0.137024         1.000000         -0.032970  \n",
       "session_duration                 0.073598        -0.032970          1.000000  "
      ]
     },
     "execution_count": 7,
     "metadata": {},
     "output_type": "execute_result"
    }
   ],
   "source": [
    "# explore the correlation of the features\n",
    "corr = clean_data.corr()\n",
    "corr"
   ]
  },
  {
   "cell_type": "code",
   "execution_count": 8,
   "metadata": {
    "scrolled": true
   },
   "outputs": [
    {
     "data": {
      "text/html": [
       "<div>\n",
       "<style scoped>\n",
       "    .dataframe tbody tr th:only-of-type {\n",
       "        vertical-align: middle;\n",
       "    }\n",
       "\n",
       "    .dataframe tbody tr th {\n",
       "        vertical-align: top;\n",
       "    }\n",
       "\n",
       "    .dataframe thead th {\n",
       "        text-align: right;\n",
       "    }\n",
       "</style>\n",
       "<table border=\"1\" class=\"dataframe\">\n",
       "  <thead>\n",
       "    <tr style=\"text-align: right;\">\n",
       "      <th></th>\n",
       "      <th>session_id</th>\n",
       "      <th>customer_id</th>\n",
       "      <th>session_projects_added</th>\n",
       "      <th>session_likes_given</th>\n",
       "      <th>session_comments_given</th>\n",
       "      <th>inactive_duration</th>\n",
       "      <th>bugs_in_session</th>\n",
       "      <th>session_duration</th>\n",
       "    </tr>\n",
       "  </thead>\n",
       "  <tbody>\n",
       "    <tr>\n",
       "      <th>session_id</th>\n",
       "      <td>1.0</td>\n",
       "      <td>NaN</td>\n",
       "      <td>NaN</td>\n",
       "      <td>NaN</td>\n",
       "      <td>NaN</td>\n",
       "      <td>NaN</td>\n",
       "      <td>NaN</td>\n",
       "      <td>NaN</td>\n",
       "    </tr>\n",
       "    <tr>\n",
       "      <th>customer_id</th>\n",
       "      <td>NaN</td>\n",
       "      <td>1.0</td>\n",
       "      <td>NaN</td>\n",
       "      <td>NaN</td>\n",
       "      <td>NaN</td>\n",
       "      <td>NaN</td>\n",
       "      <td>NaN</td>\n",
       "      <td>NaN</td>\n",
       "    </tr>\n",
       "    <tr>\n",
       "      <th>session_projects_added</th>\n",
       "      <td>NaN</td>\n",
       "      <td>NaN</td>\n",
       "      <td>1.0</td>\n",
       "      <td>NaN</td>\n",
       "      <td>NaN</td>\n",
       "      <td>NaN</td>\n",
       "      <td>NaN</td>\n",
       "      <td>NaN</td>\n",
       "    </tr>\n",
       "    <tr>\n",
       "      <th>session_likes_given</th>\n",
       "      <td>NaN</td>\n",
       "      <td>NaN</td>\n",
       "      <td>NaN</td>\n",
       "      <td>1.0</td>\n",
       "      <td>NaN</td>\n",
       "      <td>NaN</td>\n",
       "      <td>NaN</td>\n",
       "      <td>NaN</td>\n",
       "    </tr>\n",
       "    <tr>\n",
       "      <th>session_comments_given</th>\n",
       "      <td>NaN</td>\n",
       "      <td>NaN</td>\n",
       "      <td>NaN</td>\n",
       "      <td>NaN</td>\n",
       "      <td>1.0</td>\n",
       "      <td>NaN</td>\n",
       "      <td>NaN</td>\n",
       "      <td>NaN</td>\n",
       "    </tr>\n",
       "    <tr>\n",
       "      <th>inactive_duration</th>\n",
       "      <td>NaN</td>\n",
       "      <td>NaN</td>\n",
       "      <td>NaN</td>\n",
       "      <td>NaN</td>\n",
       "      <td>NaN</td>\n",
       "      <td>1.0</td>\n",
       "      <td>NaN</td>\n",
       "      <td>NaN</td>\n",
       "    </tr>\n",
       "    <tr>\n",
       "      <th>bugs_in_session</th>\n",
       "      <td>NaN</td>\n",
       "      <td>NaN</td>\n",
       "      <td>NaN</td>\n",
       "      <td>NaN</td>\n",
       "      <td>NaN</td>\n",
       "      <td>NaN</td>\n",
       "      <td>1.0</td>\n",
       "      <td>NaN</td>\n",
       "    </tr>\n",
       "    <tr>\n",
       "      <th>session_duration</th>\n",
       "      <td>NaN</td>\n",
       "      <td>NaN</td>\n",
       "      <td>NaN</td>\n",
       "      <td>NaN</td>\n",
       "      <td>NaN</td>\n",
       "      <td>NaN</td>\n",
       "      <td>NaN</td>\n",
       "      <td>1.0</td>\n",
       "    </tr>\n",
       "  </tbody>\n",
       "</table>\n",
       "</div>"
      ],
      "text/plain": [
       "                        session_id  customer_id  session_projects_added  \\\n",
       "session_id                     1.0          NaN                     NaN   \n",
       "customer_id                    NaN          1.0                     NaN   \n",
       "session_projects_added         NaN          NaN                     1.0   \n",
       "session_likes_given            NaN          NaN                     NaN   \n",
       "session_comments_given         NaN          NaN                     NaN   \n",
       "inactive_duration              NaN          NaN                     NaN   \n",
       "bugs_in_session                NaN          NaN                     NaN   \n",
       "session_duration               NaN          NaN                     NaN   \n",
       "\n",
       "                        session_likes_given  session_comments_given  \\\n",
       "session_id                              NaN                     NaN   \n",
       "customer_id                             NaN                     NaN   \n",
       "session_projects_added                  NaN                     NaN   \n",
       "session_likes_given                     1.0                     NaN   \n",
       "session_comments_given                  NaN                     1.0   \n",
       "inactive_duration                       NaN                     NaN   \n",
       "bugs_in_session                         NaN                     NaN   \n",
       "session_duration                        NaN                     NaN   \n",
       "\n",
       "                        inactive_duration  bugs_in_session  session_duration  \n",
       "session_id                            NaN              NaN               NaN  \n",
       "customer_id                           NaN              NaN               NaN  \n",
       "session_projects_added                NaN              NaN               NaN  \n",
       "session_likes_given                   NaN              NaN               NaN  \n",
       "session_comments_given                NaN              NaN               NaN  \n",
       "inactive_duration                     1.0              NaN               NaN  \n",
       "bugs_in_session                       NaN              1.0               NaN  \n",
       "session_duration                      NaN              NaN               1.0  "
      ]
     },
     "execution_count": 8,
     "metadata": {},
     "output_type": "execute_result"
    }
   ],
   "source": [
    "corr[corr > 0.5]    # show any rows with correlation > 0.5"
   ]
  },
  {
   "cell_type": "markdown",
   "metadata": {},
   "source": [
    "The dataset seems very random. There are no strong correlations among any of the numerical variables."
   ]
  },
  {
   "cell_type": "markdown",
   "metadata": {},
   "source": [
    "### Are any variables normally distributed?"
   ]
  },
  {
   "cell_type": "markdown",
   "metadata": {},
   "source": [
    "To determine normalcy of the numerical variables (session_projects_added, session_likes_given, session_comments_given, inactive_duration, bugs_in_session, session_duration), I will perform the follow tests of normality:\n",
    "* Normal Probability Plots \n",
    "* KDE Plots\n",
    "* Skewness and Kurtosis Tests\n",
    "* Hypothesis Testing"
   ]
  },
  {
   "cell_type": "markdown",
   "metadata": {},
   "source": [
    "### Normal Probability Plots"
   ]
  },
  {
   "cell_type": "code",
   "execution_count": 9,
   "metadata": {},
   "outputs": [
    {
     "data": {
      "image/png": "[encoded data removed]",
      "text/plain": [
       "<Figure size 1080x1080 with 7 Axes>"
      ]
     },
     "metadata": {
      "needs_background": "light"
     },
     "output_type": "display_data"
    }
   ],
   "source": [
    "cols = raw_data.iloc[:,8:].columns    # grab all the numerical column names\n",
    "\n",
    "fig, ax = plt.subplots(figsize=(15,15))\n",
    "t = ax.axis('off')\n",
    "style.use('seaborn-darkgrid')\n",
    "for a in range(6):\n",
    "    ax = fig.add_subplot(3,2, a+1)\n",
    "    x = probplot(raw_data[cols[a]], dist=norm, plot=ax, fit=True)\n",
    "    title = ax.set_title(cols[a])"
   ]
  },
  {
   "cell_type": "markdown",
   "metadata": {},
   "source": [
    "Upon visual inspection of the Normal Probability plots, it does not seem that any variables are normally distributed. If they were normally distributed then the points would appear to be in a straight line, or have very little curvature."
   ]
  },
  {
   "cell_type": "markdown",
   "metadata": {},
   "source": [
    "### Histograms with KDE Plots"
   ]
  },
  {
   "cell_type": "code",
   "execution_count": 10,
   "metadata": {},
   "outputs": [
    {
     "data": {
      "image/png": "[encoded data removed]",
      "text/plain": [
       "<Figure size 1080x1080 with 7 Axes>"
      ]
     },
     "metadata": {},
     "output_type": "display_data"
    }
   ],
   "source": [
    "fig, ax = plt.subplots(figsize=(15,15))\n",
    "t = ax.axis('off')\n",
    "style.use('seaborn-darkgrid')\n",
    "for a in range(6):\n",
    "    ax = fig.add_subplot(3,2, a+1)\n",
    "    x = sns.distplot(raw_data[cols[a]], kde=True)\n",
    "    #title = ax.set_title(cols[a])"
   ]
  },
  {
   "cell_type": "markdown",
   "metadata": {},
   "source": [
    "The KDE Plots seem to confirm what the normal probablity plots suggest. None of the varibles seem to be normally distributed. I can stop the normalcy tests here because visual inspection has failed to confirm the normalcy of the variables, but for the sake of completeness, I will conduct the skewness and kurtosis tests and the hypotheis tests."
   ]
  },
  {
   "cell_type": "markdown",
   "metadata": {},
   "source": [
    "### Skewness and Kurtosis Tests"
   ]
  },
  {
   "cell_type": "code",
   "execution_count": 11,
   "metadata": {},
   "outputs": [
    {
     "data": {
      "text/plain": [
       "array([ 2.46387073, -1.35231508, 15.25350419, -1.06734957, -0.50303258,\n",
       "       -1.1671208 ])"
      ]
     },
     "execution_count": 11,
     "metadata": {},
     "output_type": "execute_result"
    },
    {
     "data": {
      "text/plain": [
       "array([0.93104209, 0.32780673, 2.29075451, 0.68284384, 1.02511091,\n",
       "       0.0108972 ])"
      ]
     },
     "execution_count": 11,
     "metadata": {},
     "output_type": "execute_result"
    }
   ],
   "source": [
    "subset = clean_data[cols]\n",
    "kurtosis_test = kurtosis(subset)\n",
    "skewness_test = skew(subset)\n",
    "\n",
    "kurtosis_test\n",
    "skewness_test"
   ]
  },
  {
   "cell_type": "code",
   "execution_count": 12,
   "metadata": {},
   "outputs": [
    {
     "name": "stdout",
     "output_type": "stream",
     "text": [
      "  Skewness                Kurtosis\n"
     ]
    },
    {
     "data": {
      "text/plain": [
       "[(6.572480193441041, 8.69656787614485),\n",
       " (2.3140771806851466, -4.773180568961154),\n",
       " (16.17106115350199, 53.83932409469518),\n",
       " (4.820381007906988, -3.767355920879304),\n",
       " (7.236537633517435, -1.775522136742505),\n",
       " (0.07692633436317134, -4.119512106539933)]"
      ]
     },
     "execution_count": 12,
     "metadata": {},
     "output_type": "execute_result"
    }
   ],
   "source": [
    "# Note: Alpha level = 0.01\n",
    "# I am using a more stringent alpha level because the data sample size is quite small\n",
    "\n",
    "normality_test = []\n",
    "N = len(subset)\n",
    "kurt_const = np.sqrt(24/N)\n",
    "skew_const = np.sqrt(6/N)\n",
    "for s, k in zip(skewness_test, kurtosis_test):\n",
    "    Z_skew_val = s / skew_const\n",
    "    Z_kurt_val = k / kurt_const\n",
    "    normality_test.append((Z_skew_val, Z_kurt_val))\n",
    "\n",
    "print('  Skewness                Kurtosis')\n",
    "normality_test"
   ]
  },
  {
   "cell_type": "markdown",
   "metadata": {},
   "source": [
    "The kurtosis and skewness z-scores must be within -2.58 and +2.58 for the variable to be considered normal. By this criterion, none of the variables qualify as having a normal distribution. "
   ]
  },
  {
   "cell_type": "markdown",
   "metadata": {},
   "source": [
    "### Hypothesis Testing"
   ]
  },
  {
   "cell_type": "code",
   "execution_count": 13,
   "metadata": {},
   "outputs": [
    {
     "name": "stdout",
     "output_type": "stream",
     "text": [
      "H0: The variable is normally distributed.\n",
      "H1: The variable is not normally distributed.\n",
      "\n",
      "Reject or Fail to Reject H0?\n",
      "\n",
      "session_projects_added: Reject H0\n",
      "session_likes_given: Reject H0\n",
      "session_comments_given: Reject H0\n",
      "inactive_duration: Reject H0\n",
      "bugs_in_session: Reject H0\n",
      "session_duration: Reject H0\n"
     ]
    }
   ],
   "source": [
    "alpha_level = 0.01\n",
    "H0 = \"H0: The variable is normally distributed.\"\n",
    "H1 = \"H1: The variable is not normally distributed.\"\n",
    "temp, p = normaltest(subset)\n",
    "\n",
    "print(f\"{H0}\\n{H1}\\n\\nReject or Fail to Reject H0?\\n\")\n",
    "for col, i in zip(cols,p):\n",
    "    if i < alpha_level:\n",
    "        print(f\"{col}: Reject H0\")\n",
    "    else:\n",
    "        print(f\"{col}: Fail to reject H0\")"
   ]
  },
  {
   "cell_type": "markdown",
   "metadata": {},
   "source": [
    "The p-values for all the variables are extremely small and therefore we reject the null hypothesis (since all p-values are less than alpha) for all the variables in question.\n",
    "\n",
    "All the tests of normalcy conducted above confirm that **none** of the variables tested are normally distributed."
   ]
  },
  {
   "cell_type": "markdown",
   "metadata": {},
   "source": [
    "## Check for Data Integrity Issues"
   ]
  },
  {
   "cell_type": "code",
   "execution_count": 14,
   "metadata": {},
   "outputs": [
    {
     "name": "stdout",
     "output_type": "stream",
     "text": [
      "session_id: 300\n",
      "customer_id: 48\n",
      "session_projects_added: 8\n",
      "session_likes_given: 28\n",
      "session_comments_given: 9\n",
      "inactive_duration: 170\n",
      "bugs_in_session: 6\n",
      "session_duration: 279\n"
     ]
    }
   ],
   "source": [
    "col_names = raw_data.columns.to_list()\n",
    "dtypes_ = raw_data.dtypes\n",
    "\n",
    "for c in col_names:\n",
    "    if dtypes_[c] == 'float64':\n",
    "        print(f\"{c}: {raw_data[c].nunique()}\")"
   ]
  },
  {
   "cell_type": "markdown",
   "metadata": {},
   "source": [
    "The observations in session_id column are all unique indicating that there are no data integrity issues in this column. Furthermore, there are total of 48 unique customer IDs indicating that there were 48 users in October 2019 that used Showwcase."
   ]
  },
  {
   "cell_type": "code",
   "execution_count": 15,
   "metadata": {},
   "outputs": [
    {
     "name": "stdout",
     "output_type": "stream",
     "text": [
      "{'bugs_in_session': (True, True),\n",
      " 'inactive_duration': (True, True),\n",
      " 'session_comments_given': (True, True),\n",
      " 'session_likes_given': (True, True),\n",
      " 'session_projects_added': (True, True)}\n"
     ]
    }
   ],
   "source": [
    "# Check the boolean rows for consistency with their corresponding numerical rows\n",
    "\n",
    "zero_or_more_cols = {'projects_added':'session_projects_added',  \n",
    "                     'likes_given':'session_likes_given',\n",
    "                     'comment_given':'session_comments_given',\n",
    "                     'bug_occured':'bugs_in_session',\n",
    "                     'inactive_status':'inactive_duration'}\n",
    "\n",
    "validated = {}\n",
    "\n",
    "# checks if boolean variable had True then the corresponding numerical value was > 0\n",
    "# if boolean variable had False then the corresponding numerical value should be 0\n",
    "for k, v in zero_or_more_cols.items():\n",
    "    false_vals = clean_data[clean_data[k] == False]\n",
    "    true_vals = clean_data[clean_data[k] == True]\n",
    "    \n",
    "    num_vals_false = (false_vals[v] == 0).all()\n",
    "    num_vals_true = (true_vals[v] > 0).all()\n",
    "\n",
    "    validated[v] = (num_vals_false, num_vals_true)\n",
    "    \n",
    "pprint(validated)"
   ]
  },
  {
   "cell_type": "markdown",
   "metadata": {},
   "source": [
    "All the boolean variables seem to be consistent with their corresponding numerical columns."
   ]
  },
  {
   "cell_type": "markdown",
   "metadata": {},
   "source": [
    "## User Engagement Analysis"
   ]
  },
  {
   "cell_type": "markdown",
   "metadata": {},
   "source": [
    "For the purpose of analysis, I am defining user engagament as the **amount of time the user is actually performing activities, such as adding projects, liking posts, or commenting on posts**. The goal of this analysis will be to find insights that could help Showwcase to maximize and improve user engagement."
   ]
  },
  {
   "cell_type": "code",
   "execution_count": 16,
   "metadata": {
    "scrolled": true
   },
   "outputs": [
    {
     "data": {
      "text/plain": [
       "<AxesSubplot:title={'center':'Day vs # of customers logged in'}, xlabel='login_date', ylabel='# of customers logged in'>"
      ]
     },
     "execution_count": 16,
     "metadata": {},
     "output_type": "execute_result"
    },
    {
     "data": {
      "image/png": "[encoded data removed]",
      "text/plain": [
       "<Figure size 432x288 with 1 Axes>"
      ]
     },
     "metadata": {},
     "output_type": "display_data"
    }
   ],
   "source": [
    "groupby_date = clean_data[['customer_id', 'login_date']].groupby('login_date').agg('count')\n",
    "groupby_date.plot(title='Day vs # of customers logged in', ylabel='# of customers logged in')"
   ]
  },
  {
   "cell_type": "markdown",
   "metadata": {},
   "source": [
    "Upon visual inspection of the above plot of login_date vs # of customers, a rough patterns seems to emerge. At the beginning of every week (Monday/Tuesday), the number of users always drops significantly. From the middle of the week (roughly Wednesday onwards), the number of customers using the platform rises again and continues to rise through the weekend. This cycle seems to repeat for every week of October 2019. \n",
    "\n",
    "It is worth looking into what causes this pattern of usage. One obvious explanation could be that the start of the week is usually when people are the most busy with work (and perhaps motivation levels are also low during the start of the week). As the week progresses, from Wednesday onwards, people start having more free time in which they can log in to Showwcase and use the platform more to perform any number of activities from adding projects to liking and commenting on posts."
   ]
  },
  {
   "cell_type": "code",
   "execution_count": 17,
   "metadata": {},
   "outputs": [
    {
     "data": {
      "text/html": [
       "<div>\n",
       "<style scoped>\n",
       "    .dataframe tbody tr th:only-of-type {\n",
       "        vertical-align: middle;\n",
       "    }\n",
       "\n",
       "    .dataframe tbody tr th {\n",
       "        vertical-align: top;\n",
       "    }\n",
       "\n",
       "    .dataframe thead th {\n",
       "        text-align: right;\n",
       "    }\n",
       "</style>\n",
       "<table border=\"1\" class=\"dataframe\">\n",
       "  <thead>\n",
       "    <tr style=\"text-align: right;\">\n",
       "      <th></th>\n",
       "      <th>customer_id</th>\n",
       "      <th>inactivity_ratio</th>\n",
       "    </tr>\n",
       "  </thead>\n",
       "  <tbody>\n",
       "    <tr>\n",
       "      <th>0</th>\n",
       "      <td>80746.0</td>\n",
       "      <td>0.0</td>\n",
       "    </tr>\n",
       "    <tr>\n",
       "      <th>1</th>\n",
       "      <td>24520.0</td>\n",
       "      <td>0.0</td>\n",
       "    </tr>\n",
       "    <tr>\n",
       "      <th>2</th>\n",
       "      <td>32047.0</td>\n",
       "      <td>0.0</td>\n",
       "    </tr>\n",
       "    <tr>\n",
       "      <th>3</th>\n",
       "      <td>23404.0</td>\n",
       "      <td>0.0</td>\n",
       "    </tr>\n",
       "    <tr>\n",
       "      <th>4</th>\n",
       "      <td>40235.0</td>\n",
       "      <td>0.0</td>\n",
       "    </tr>\n",
       "    <tr>\n",
       "      <th>...</th>\n",
       "      <td>...</td>\n",
       "      <td>...</td>\n",
       "    </tr>\n",
       "    <tr>\n",
       "      <th>295</th>\n",
       "      <td>40572.0</td>\n",
       "      <td>0.0</td>\n",
       "    </tr>\n",
       "    <tr>\n",
       "      <th>296</th>\n",
       "      <td>87323.0</td>\n",
       "      <td>0.0</td>\n",
       "    </tr>\n",
       "    <tr>\n",
       "      <th>297</th>\n",
       "      <td>51243.0</td>\n",
       "      <td>0.0</td>\n",
       "    </tr>\n",
       "    <tr>\n",
       "      <th>298</th>\n",
       "      <td>23083.0</td>\n",
       "      <td>0.0</td>\n",
       "    </tr>\n",
       "    <tr>\n",
       "      <th>299</th>\n",
       "      <td>38459.0</td>\n",
       "      <td>0.0</td>\n",
       "    </tr>\n",
       "  </tbody>\n",
       "</table>\n",
       "<p>299 rows × 2 columns</p>\n",
       "</div>"
      ],
      "text/plain": [
       "     customer_id  inactivity_ratio\n",
       "0        80746.0               0.0\n",
       "1        24520.0               0.0\n",
       "2        32047.0               0.0\n",
       "3        23404.0               0.0\n",
       "4        40235.0               0.0\n",
       "..           ...               ...\n",
       "295      40572.0               0.0\n",
       "296      87323.0               0.0\n",
       "297      51243.0               0.0\n",
       "298      23083.0               0.0\n",
       "299      38459.0               0.0\n",
       "\n",
       "[299 rows x 2 columns]"
      ]
     },
     "execution_count": 17,
     "metadata": {},
     "output_type": "execute_result"
    }
   ],
   "source": [
    "# calculate inactivity ratio\n",
    "clean_data['inactivity_ratio'] = clean_data['inactive_duration'] / clean_data['session_duration']\n",
    "\n",
    "# standardize the ratio so that it is between 0 and 1\n",
    "clean_data['inactivity_ratio'] = round((clean_data['inactivity_ratio'] - clean_data['inactive_duration'].min()) / \\\n",
    "                                 (clean_data['inactivity_ratio'].max() - clean_data['inactivity_ratio'].min()), 1)\n",
    "\n",
    "clean_data[['customer_id', 'inactivity_ratio']]"
   ]
  },
  {
   "cell_type": "code",
   "execution_count": 18,
   "metadata": {},
   "outputs": [
    {
     "data": {
      "image/png": "[encoded data removed]",
      "text/plain": [
       "<Figure size 1080x360 with 3 Axes>"
      ]
     },
     "metadata": {},
     "output_type": "display_data"
    }
   ],
   "source": [
    "plot_cols = ['session_projects_added', 'session_likes_given', 'session_comments_given']\n",
    "fig, axes = plt.subplots(1,3, figsize=(15, 5))\n",
    "for i, ax in enumerate(axes.ravel()):\n",
    "    l = ax.scatter(clean_data['inactivity_ratio'], clean_data[plot_cols[i]])\n",
    "    m = ax.set_ylabel(plot_cols[i])\n",
    "    n = ax.set_xlabel('inactivity_ratio')"
   ]
  },
  {
   "cell_type": "code",
   "execution_count": 19,
   "metadata": {},
   "outputs": [
    {
     "data": {
      "text/html": [
       "<div>\n",
       "<style scoped>\n",
       "    .dataframe tbody tr th:only-of-type {\n",
       "        vertical-align: middle;\n",
       "    }\n",
       "\n",
       "    .dataframe tbody tr th {\n",
       "        vertical-align: top;\n",
       "    }\n",
       "\n",
       "    .dataframe thead th {\n",
       "        text-align: right;\n",
       "    }\n",
       "</style>\n",
       "<table border=\"1\" class=\"dataframe\">\n",
       "  <thead>\n",
       "    <tr style=\"text-align: right;\">\n",
       "      <th></th>\n",
       "      <th>inactivity_ratio</th>\n",
       "      <th>session_comments_given</th>\n",
       "      <th>session_likes_given</th>\n",
       "      <th>session_projects_added</th>\n",
       "    </tr>\n",
       "  </thead>\n",
       "  <tbody>\n",
       "    <tr>\n",
       "      <th>0</th>\n",
       "      <td>0.0</td>\n",
       "      <td>643.0</td>\n",
       "      <td>2844.0</td>\n",
       "      <td>426.0</td>\n",
       "    </tr>\n",
       "    <tr>\n",
       "      <th>1</th>\n",
       "      <td>0.1</td>\n",
       "      <td>56.0</td>\n",
       "      <td>188.0</td>\n",
       "      <td>28.0</td>\n",
       "    </tr>\n",
       "    <tr>\n",
       "      <th>2</th>\n",
       "      <td>0.2</td>\n",
       "      <td>8.0</td>\n",
       "      <td>43.0</td>\n",
       "      <td>16.0</td>\n",
       "    </tr>\n",
       "    <tr>\n",
       "      <th>3</th>\n",
       "      <td>0.3</td>\n",
       "      <td>4.0</td>\n",
       "      <td>0.0</td>\n",
       "      <td>3.0</td>\n",
       "    </tr>\n",
       "    <tr>\n",
       "      <th>4</th>\n",
       "      <td>0.4</td>\n",
       "      <td>4.0</td>\n",
       "      <td>15.0</td>\n",
       "      <td>1.0</td>\n",
       "    </tr>\n",
       "    <tr>\n",
       "      <th>5</th>\n",
       "      <td>0.5</td>\n",
       "      <td>0.0</td>\n",
       "      <td>5.0</td>\n",
       "      <td>3.0</td>\n",
       "    </tr>\n",
       "    <tr>\n",
       "      <th>6</th>\n",
       "      <td>0.7</td>\n",
       "      <td>1.0</td>\n",
       "      <td>25.0</td>\n",
       "      <td>1.0</td>\n",
       "    </tr>\n",
       "    <tr>\n",
       "      <th>7</th>\n",
       "      <td>0.8</td>\n",
       "      <td>0.0</td>\n",
       "      <td>7.0</td>\n",
       "      <td>3.0</td>\n",
       "    </tr>\n",
       "    <tr>\n",
       "      <th>8</th>\n",
       "      <td>1.0</td>\n",
       "      <td>4.0</td>\n",
       "      <td>0.0</td>\n",
       "      <td>3.0</td>\n",
       "    </tr>\n",
       "  </tbody>\n",
       "</table>\n",
       "</div>"
      ],
      "text/plain": [
       "   inactivity_ratio  session_comments_given  session_likes_given  \\\n",
       "0               0.0                   643.0               2844.0   \n",
       "1               0.1                    56.0                188.0   \n",
       "2               0.2                     8.0                 43.0   \n",
       "3               0.3                     4.0                  0.0   \n",
       "4               0.4                     4.0                 15.0   \n",
       "5               0.5                     0.0                  5.0   \n",
       "6               0.7                     1.0                 25.0   \n",
       "7               0.8                     0.0                  7.0   \n",
       "8               1.0                     4.0                  0.0   \n",
       "\n",
       "   session_projects_added  \n",
       "0                   426.0  \n",
       "1                    28.0  \n",
       "2                    16.0  \n",
       "3                     3.0  \n",
       "4                     1.0  \n",
       "5                     3.0  \n",
       "6                     1.0  \n",
       "7                     3.0  \n",
       "8                     3.0  "
      ]
     },
     "execution_count": 19,
     "metadata": {},
     "output_type": "execute_result"
    },
    {
     "data": {
      "text/plain": [
       "<AxesSubplot:xlabel='inactivity_ratio'>"
      ]
     },
     "execution_count": 19,
     "metadata": {},
     "output_type": "execute_result"
    },
    {
     "data": {
      "image/png": "[encoded data removed]",
      "text/plain": [
       "<Figure size 432x288 with 1 Axes>"
      ]
     },
     "metadata": {},
     "output_type": "display_data"
    }
   ],
   "source": [
    "groupby_inactivity_comments = clean_data[['inactivity_ratio', 'session_comments_given', 'session_likes_given', \\\n",
    "                                          'session_projects_added']].groupby('inactivity_ratio').agg('sum')\n",
    "groupby_inactivity_comments = groupby_inactivity_comments.reset_index()\n",
    "groupby_inactivity_comments\n",
    "groupby_inactivity_comments.plot(x='inactivity_ratio', kind='bar')"
   ]
  },
  {
   "cell_type": "markdown",
   "metadata": {},
   "source": [
    "From the above scatter and bar plots, it is clear that the more the person remains inactive, the less they are actually \"enagaged\" with the content on the website. What Showwcase could target is some form of method where users are encouraged to keep their sessions short as they engage on the platform (adding projects, liking/commenting on posts) and log out once they are done. I believe if short, quick sessions are encouraged then people will be more productive in those sessions and perhaps they will be even more likely to visit Showwcase again and have another highly engaging session. \n",
    "\n",
    "Performing an A/B test would be one way to confirm or reject this hypothesis."
   ]
  },
  {
   "cell_type": "code",
   "execution_count": 20,
   "metadata": {},
   "outputs": [
    {
     "data": {
      "text/plain": [
       "0.0    183\n",
       "2.0     28\n",
       "4.0     28\n",
       "5.0     24\n",
       "3.0     23\n",
       "1.0     13\n",
       "Name: bugs_in_session, dtype: int64"
      ]
     },
     "execution_count": 20,
     "metadata": {},
     "output_type": "execute_result"
    }
   ],
   "source": [
    "clean_data['bugs_in_session'].value_counts()"
   ]
  },
  {
   "cell_type": "code",
   "execution_count": 21,
   "metadata": {},
   "outputs": [
    {
     "data": {
      "text/html": [
       "<div>\n",
       "<style scoped>\n",
       "    .dataframe tbody tr th:only-of-type {\n",
       "        vertical-align: middle;\n",
       "    }\n",
       "\n",
       "    .dataframe tbody tr th {\n",
       "        vertical-align: top;\n",
       "    }\n",
       "\n",
       "    .dataframe thead tr th {\n",
       "        text-align: left;\n",
       "    }\n",
       "\n",
       "    .dataframe thead tr:last-of-type th {\n",
       "        text-align: right;\n",
       "    }\n",
       "</style>\n",
       "<table border=\"1\" class=\"dataframe\">\n",
       "  <thead>\n",
       "    <tr>\n",
       "      <th></th>\n",
       "      <th colspan=\"2\" halign=\"left\">inactivity_ratio</th>\n",
       "      <th># of sessions</th>\n",
       "    </tr>\n",
       "    <tr>\n",
       "      <th></th>\n",
       "      <th>min</th>\n",
       "      <th>max</th>\n",
       "      <th></th>\n",
       "    </tr>\n",
       "    <tr>\n",
       "      <th>bugs_in_session</th>\n",
       "      <th></th>\n",
       "      <th></th>\n",
       "      <th></th>\n",
       "    </tr>\n",
       "  </thead>\n",
       "  <tbody>\n",
       "    <tr>\n",
       "      <th>0.0</th>\n",
       "      <td>0.0</td>\n",
       "      <td>0.5</td>\n",
       "      <td>183</td>\n",
       "    </tr>\n",
       "    <tr>\n",
       "      <th>1.0</th>\n",
       "      <td>0.0</td>\n",
       "      <td>0.1</td>\n",
       "      <td>13</td>\n",
       "    </tr>\n",
       "    <tr>\n",
       "      <th>2.0</th>\n",
       "      <td>0.0</td>\n",
       "      <td>0.8</td>\n",
       "      <td>28</td>\n",
       "    </tr>\n",
       "    <tr>\n",
       "      <th>3.0</th>\n",
       "      <td>0.0</td>\n",
       "      <td>0.7</td>\n",
       "      <td>23</td>\n",
       "    </tr>\n",
       "    <tr>\n",
       "      <th>4.0</th>\n",
       "      <td>0.0</td>\n",
       "      <td>1.0</td>\n",
       "      <td>28</td>\n",
       "    </tr>\n",
       "    <tr>\n",
       "      <th>5.0</th>\n",
       "      <td>0.0</td>\n",
       "      <td>0.2</td>\n",
       "      <td>24</td>\n",
       "    </tr>\n",
       "  </tbody>\n",
       "</table>\n",
       "</div>"
      ],
      "text/plain": [
       "                inactivity_ratio      # of sessions\n",
       "                             min  max              \n",
       "bugs_in_session                                    \n",
       "0.0                          0.0  0.5           183\n",
       "1.0                          0.0  0.1            13\n",
       "2.0                          0.0  0.8            28\n",
       "3.0                          0.0  0.7            23\n",
       "4.0                          0.0  1.0            28\n",
       "5.0                          0.0  0.2            24"
      ]
     },
     "execution_count": 21,
     "metadata": {},
     "output_type": "execute_result"
    }
   ],
   "source": [
    "groupby_bugs = clean_data[['bugs_in_session', 'inactivity_ratio']].groupby('bugs_in_session').agg(['min', 'max'])\n",
    "groupby_bugs['# of sessions'] = clean_data[['customer_id', 'bugs_in_session']].groupby('bugs_in_session').agg(['count'])\n",
    "groupby_bugs"
   ]
  },
  {
   "cell_type": "code",
   "execution_count": 22,
   "metadata": {},
   "outputs": [
    {
     "data": {
      "text/plain": [
       "<AxesSubplot:xlabel='bugs_in_session'>"
      ]
     },
     "execution_count": 22,
     "metadata": {},
     "output_type": "execute_result"
    },
    {
     "data": {
      "image/png": "[encoded data removed]",
      "text/plain": [
       "<Figure size 432x288 with 1 Axes>"
      ]
     },
     "metadata": {},
     "output_type": "display_data"
    }
   ],
   "source": [
    "groupby_bugs_comments = clean_data[['bugs_in_session', 'session_comments_given', 'session_likes_given', 'session_projects_added']].groupby('bugs_in_session').agg('sum')\n",
    "groupby_bugs_comments = groupby_bugs_comments.reset_index()\n",
    "groupby_bugs_comments.plot(x='bugs_in_session', kind='bar')"
   ]
  },
  {
   "cell_type": "markdown",
   "metadata": {},
   "source": [
    "From the above plot, it can be said that bugs are obviously not good for user engagement. Although we observe some anomalous behavior when the user enegagement decrease at one bug occuring and then increases again at two bugs occuring, the general trend is that, as bugs increase, the user engagement decreases. It should be noted here that the classes of the various number of bugs occuring are imbalanced. Over half of the sessions (183) ran without bugs and then the rest are distributed almost equally throughout the other classes (refer to the groupy_bugs table output)."
   ]
  },
  {
   "cell_type": "markdown",
   "metadata": {},
   "source": [
    "## Final Conclusion"
   ]
  },
  {
   "cell_type": "markdown",
   "metadata": {},
   "source": [
    "In conclusion, it seems that as the amount of time a user stays inactive and the number of bugs occuring per session negatively imapct the user engagement. \n",
    "\n",
    "To improve user engagament, an obvious suggestion would be to direct efforts towards making the application more robust and resistent to bugs. Another suggestion would be to develop a method, perhaps making popups appear on the screen after a certain amount of elapsed time in the session to prompt the user whether they would like to log out. An automatic session timeout could also be set, so the user automatically logs out after certain amount of inactivity. I believe that this would encourage the user to have short, highly-engaging sessions, which might even prompt them to come back later and continue having more highly-engaging sessions. The stated hypothesis could be tested with A/B testing.\n",
    "\n",
    "It should be noted, however, that the dataset was fairly small (only 300 observations) and quite random (no correlations were found among the variables), so the conclusions here should be taken with a grain of salt. If these conclusions could be validated with a larger sample of the datasets, then that would be optimal. Naturally, the anlaysis and the insights can only be as good as the data. "
   ]
  }
 ],
 "metadata": {
  "kernelspec": {
   "display_name": "Python 3",
   "language": "python",
   "name": "python3"
  },
  "language_info": {
   "codemirror_mode": {
    "name": "ipython",
    "version": 3
   },
   "file_extension": ".py",
   "mimetype": "text/x-python",
   "name": "python",
   "nbconvert_exporter": "python",
   "pygments_lexer": "ipython3",
   "version": "3.8.5"
  }
 },
 "nbformat": 4,
 "nbformat_minor": 4
}
